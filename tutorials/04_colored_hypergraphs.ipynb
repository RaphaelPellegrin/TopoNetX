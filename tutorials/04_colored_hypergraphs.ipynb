{
 "cells": [
  {
   "cell_type": "markdown",
   "id": "72c5e6d0",
   "metadata": {},
   "source": [
    "# Colored Hypergraphs"
   ]
  },
  {
   "cell_type": "markdown",
   "id": "1f867745",
   "metadata": {},
   "source": [
    "In this tutorial, you will learn about colored hypergraphs in `TopoNetX`, which are mathematical structures that can be depicted like this:"
   ]
  },
  {
   "cell_type": "code",
   "execution_count": 1,
   "id": "8cd070d7",
   "metadata": {},
   "outputs": [
    {
     "data": {
      "image/png": "[encoded data removed]",
      "text/plain": [
       "<IPython.core.display.Image object>"
      ]
     },
     "execution_count": 1,
     "metadata": {},
     "output_type": "execute_result"
    }
   ],
   "source": [
    "from IPython import display\n",
    "\n",
    "display.Image(\"cc.png\")"
   ]
  },
  {
   "cell_type": "markdown",
   "id": "baa24fa1",
   "metadata": {},
   "source": [
    "## Setup"
   ]
  },
  {
   "cell_type": "code",
   "execution_count": 2,
   "id": "24d69d5e",
   "metadata": {},
   "outputs": [],
   "source": [
    "import sys\n",
    "from toponetx.classes import ColoredHyperGraph as chg"
   ]
  },
  {
   "cell_type": "markdown",
   "id": "29d63a46",
   "metadata": {},
   "source": [
    "## Colored Hypergraph"
   ]
  },
  {
   "cell_type": "markdown",
   "id": "49e4e311",
   "metadata": {},
   "source": [
    "A *colored hypergraph*, CHG, combines features of both hypergraphs and of cell complexes $[1]$. A hypergraph is, as defined by $[3]$, a generalisation of a graph in which a single edge is not limited to joining just two vertices like in an ordinary graph, but can actually join multiple vertices together. CHGs are  set-like, such that they have the geometric constraints of a simplicial or cellular complex $[1]$ but they are not hierarchial like a Combinatorial Complex.\n",
    "\n",
    "A CHG is made up of cells, each cell has a specific rank $k$ - these cells can be referred to as $k$-cells."
   ]
  },
  {
   "cell_type": "markdown",
   "id": "5ce6cd2f",
   "metadata": {},
   "source": [
    "### Defintion of Colored Hypergraph"
   ]
  },
  {
   "cell_type": "markdown",
   "id": "cff96cdf",
   "metadata": {},
   "source": [
    "$[1]$ Let S be a non-empty finite set and $\\mathcal{P}(S)$ its power set. A colored hypergraph (CHG) is a tuple $(X, \\imath)$ formed by a set $X \\subset \\mathcal{P}(S)$ \\ ${\\emptyset}$ together with a rank function $\\imath : X \\rightarrow \\mathbb{Z}^+$\n",
    "that \n",
    "\n",
    "&emsp; (i) $\\imath$({$x$}) $= 0$ for all $x \\in S$, and "
   ]
  },
  {
   "cell_type": "markdown",
   "id": "a391dd91",
   "metadata": {},
   "source": [
    "### Example of a Colored Hypergraph"
   ]
  },
  {
   "cell_type": "markdown",
   "id": "e26c68be",
   "metadata": {},
   "source": [
    "![](chg.png)"
   ]
  },
  {
   "cell_type": "markdown",
   "id": "9d28c791",
   "metadata": {},
   "source": [
    "This is an example of a colored hypergraph (CHG), this example has six cells of rank 0, three cells of rank 1 and two cells of rank 2. As we can see this is different to a cell comples (CC) as cells of rank 2 can contain cells of rank 0 without needing cells of rank 0 also. \n",
    "\n",
    "To express this example as code we may use the `add_cell` function. Examples of this can be seen below."
   ]
  },
  {
   "cell_type": "code",
   "execution_count": 7,
   "id": "0ce2f1f7",
   "metadata": {},
   "outputs": [
    {
     "name": "stdout",
     "output_type": "stream",
     "text": [
      "Colored Hypergraph with 2 nodes and hyperedges with colors [0, 1] and sizes (2, 1) \n",
      "Colored Hypergraph with 3 nodes and hyperedges with colors [0, 1] and sizes (3, 2) \n",
      "Colored Hypergraph with 4 nodes and hyperedges with colors [0, 1, 2] and sizes (4, 2, 1) \n",
      "Colored Hypergraph with 5 nodes and hyperedges with colors [0, 1, 2] and sizes (5, 3, 1) \n",
      "Colored Hypergraph with 6 nodes and hyperedges with colors [0, 1, 2] and sizes (6, 3, 2) \n",
      "Colored Hypergraph with 6 nodes and hyperedges with colors [0, 1, 2] and sizes (6, 4, 2) \n"
     ]
    }
   ],
   "source": [
    "example = chg()\n",
    "\n",
    "example.add_cell([1, 2], rank=1)\n",
    "print(example)\n",
    "\n",
    "example.add_cell([1, 3], rank=1)\n",
    "print(example)\n",
    "\n",
    "example.add_cell([1, 2, 4, 3], rank=2)\n",
    "print(example)\n",
    "\n",
    "example.add_cell([2, 5], rank=1)\n",
    "print(example)\n",
    "\n",
    "example.add_cell([2, 6, 4], rank=2)\n",
    "print(example)\n",
    "example.add_cell([1, 2, 4, 3, 5, 6], rank=1)\n",
    "print(example)"
   ]
  },
  {
   "cell_type": "markdown",
   "id": "ca50701f",
   "metadata": {},
   "source": [
    "The output of this code clearly demonstrates how the CHG builds up. The first line of the output comes from adding the 1-cell $[1,2]$. This 1-cell is made up of two 0-cells - therefor the output says we have cells with ranks $[0,1]$ and these cells have sizes $[2,1]$. Sizes refers to the number of cells with that rank, so after our first line of input we have two 0-cells and one 1-cell.\n",
    "\n",
    "Each futher line of input is adding another cell of varying rank. Finally, the last line of output is telling us that we have cells of rank 0, 1 and 2 and that they respectively have sizes of 6, 4 and 2. This is such that we have six 0-cells, three 1-cells and two 2-cells, just like our example figure does."
   ]
  },
  {
   "cell_type": "markdown",
   "id": "34a62e3f",
   "metadata": {},
   "source": [
    "### Helpful Code Output"
   ]
  },
  {
   "cell_type": "markdown",
   "id": "59a5e00c",
   "metadata": {},
   "source": [
    "If you ever need the list of 0-cells, 1-cells or 2-cells the code below is useful for that. This utilises something called an incidence matrix which is explained later in the tutorial. Knowing the order that cells of each rank is listed in is very important when it comes to understanding the output of adjacency and incidence matrices, using this code allows you to access that information at any time."
   ]
  },
  {
   "cell_type": "code",
   "execution_count": 10,
   "id": "43f9b5f6",
   "metadata": {},
   "outputs": [
    {
     "name": "stdout",
     "output_type": "stream",
     "text": [
      "rank 0:\n",
      "OrderedDict([(frozenset({1}), 0), (frozenset({2}), 1), (frozenset({3}), 2), (frozenset({4}), 3), (frozenset({5}), 4), (frozenset({6}), 5)])\n",
      "rank 1:\n",
      "OrderedDict([(frozenset({1, 2}), 0), (frozenset({1, 3}), 1), (frozenset({2, 5}), 2), (frozenset({1, 2, 3, 4, 5, 6}), 3)])\n",
      "rank 2:\n",
      "OrderedDict([(frozenset({1, 2, 3, 4}), 0), (frozenset({2, 4, 6}), 1)])\n"
     ]
    }
   ],
   "source": [
    "row, column, B2 = example.incidence_matrix(0, 1, index=True)\n",
    "row1, column1, B2 = example.incidence_matrix(1, 2, index=True)\n",
    "print(\"rank 0:\")\n",
    "print(row)\n",
    "print(\"rank 1:\")\n",
    "print(column)\n",
    "print(\"rank 2:\")\n",
    "print(column1)"
   ]
  },
  {
   "cell_type": "markdown",
   "id": "b5ed02cf",
   "metadata": {},
   "source": [
    "Although at first glance this may appear confusing, once you understand the output format it is quite simple. This output is telling us that:\n",
    "\n",
    "In the 0-cells, the $0^{th}$ cell is {1}, the $1^{st}$ cell is {2}, and so on until reaching the $6^{th}$ cell which is {6}.\n",
    "\n",
    "In the 1-cells, the $0^{th}$ cell is {1,2}, the $1^{st}$ cell is {1,3},$2^{nd}$ cell is {2,5} and the $3^{rd}$ cell is {1,2,3,4,5,6}.\n",
    "\n",
    "In the 2-cells, the $0^{th}$ cell is {1,2,3,4} and the $1^{st}$ cell is {2,4,6}.\n",
    "\n",
    "Comparing this information to the diagram of our example, we see that all the cells of each rank are listed, and now we also know their order. "
   ]
  },
  {
   "cell_type": "markdown",
   "id": "931b029a",
   "metadata": {},
   "source": [
    "## Adjacency"
   ]
  },
  {
   "cell_type": "markdown",
   "id": "a1651f7b",
   "metadata": {},
   "source": [
    "### Adjacency Matrix"
   ]
  },
  {
   "cell_type": "markdown",
   "id": "b22cd41c",
   "metadata": {},
   "source": [
    "An *adjacency matrix*, is a square matrix that compares a class of objects to themselves (hence being square). Entries in an adjacency matrix are zero if they are not adjacent, and non-zero if they are adjacent $[5]$. \n",
    "\n",
    "$$\n",
    "AXY(i,j) = \\begin{cases}\n",
    "      1 & \\text{if the } i\\text{-th } X\\text{-cell is adjacent to the } j\\text{-th } X\\text{-cell by both being members of the same } Y\\text{-cell} \\\\\n",
    "      0 & \\text{otherwise}\n",
    "    \\end{cases}\n",
    "$$\n",
    "\n",
    "\n",
    "\n",
    "    \n",
    "Where $X$, $Y$ are ranks such that $X < Y$.\n",
    "\n",
    "Being 'adjacent' is defined in this context as related to each other via some higher-ranked class. Thus, when we have $n$ ranks, the number of adjacencies ,$A_n$, is defined by:\n",
    "\n",
    "$A_n = A_{n-1} + (n-1)$ with $n \\geq 2$ where $A_2 = 1$.\n",
    "\n",
    "In our example there are 3 ranks, this means the number of adjacency matrices that we can make is 3; A01, A02, A12. Any other combination would be impossible as cells can only be adjacent via a cell of a higher rank. "
   ]
  },
  {
   "cell_type": "code",
   "execution_count": 11,
   "id": "c4348e5b",
   "metadata": {},
   "outputs": [
    {
     "name": "stdout",
     "output_type": "stream",
     "text": [
      "[[0 1 1 1 1 1]\n",
      " [1 0 1 1 1 1]\n",
      " [1 1 0 1 1 1]\n",
      " [1 1 1 0 1 1]\n",
      " [1 1 1 1 0 1]\n",
      " [1 1 1 1 1 0]]\n"
     ]
    }
   ],
   "source": [
    "A01 = example.adjacency_matrix(0, 1).todense()\n",
    "print(A01)"
   ]
  },
  {
   "cell_type": "markdown",
   "id": "939eb6a6",
   "metadata": {},
   "source": [
    "As this is A01 matrix, it is comparing if 0-cells are related to other 0-cells via any 1-cells. The matrix is square, due to the fact it is comparing each 0-cell to every other 0-cell - it is not important which 1-cell they are adjacent by. Here we can see that the matrix is symmetric, this is due to the fact that the CHG is not directed. \n",
    "\n",
    "To remind ourselves, \n",
    "\n",
    "*rank-0*: 0: {1}, 1: {2}, 2: {3}, 3: {4}, 4: {5}, 5: {6}\n",
    "\n",
    "*rank-1*: 0: {1,2}, 1: {1,3}, 2: {2,5}, 3: {1,2,3,4,5,6}.\n",
    "\n",
    "Looking at the output, the $0^{th}$ row tells us that the $0^{th}$ 0-cell is adjacent to the $1^{st}$ and $2^{nd}$ 0-cells. That is, {1} is adjacent to {2} and {3} via some 1-cell. By looking at our list of 1-cells it is easy to see that {1,2},{1,3} & {1,2,3,4,5,6} are the 1-cells that {1} is adjacent to {2}, {3} via. \n",
    "\n",
    "The $2^{nd}$ row tell us that that $2^{nd}$ 0-cell is adjacent to the $0^{th}$ 0-cell. This is such that {3} is adjacent to {1} via a 1-cell. The rest of the entries in that row are 0, which means {3} is only adjacent via a 1-cell to {1}, this is evident by looking at the diagram of our example."
   ]
  },
  {
   "cell_type": "code",
   "execution_count": 14,
   "id": "2d4b7b29",
   "metadata": {},
   "outputs": [
    {
     "name": "stdout",
     "output_type": "stream",
     "text": [
      "[[0 1 1 1 0 0]\n",
      " [1 0 1 1 0 1]\n",
      " [1 1 0 1 0 0]\n",
      " [1 1 1 0 0 1]\n",
      " [0 0 0 0 0 0]\n",
      " [0 1 0 1 0 0]]\n"
     ]
    }
   ],
   "source": [
    "A02 = example.adjacency_matrix(0, 2).todense()\n",
    "print(A02)"
   ]
  },
  {
   "cell_type": "markdown",
   "id": "6cbb2e3d",
   "metadata": {},
   "source": [
    "This is the A02 matrix, this is comparing which 0-cells are adjacent via 2-cells.\n",
    "\n",
    "To remind ourselves,\n",
    "\n",
    "*rank-0*: 0: {1}, 1: {2}, 2: {3}, 3: {4}, 4: {5}, 5: {6}\n",
    "\n",
    "*rank-2*: 0: {1,2,3,4}, 1: {2,4,6}.\n",
    "\n",
    "Looking at the output, the $0^{th}$ row tells us that the $0^{th}$ 0-cell is adjacent to the $1^{st}$, $2^{nd}$ and $3^{rd}$ 0-cells via 2-cells. That is, {1} is adjacent to {2}, {3} and {4} via a 2-cell. Looking at our list of 2-cells or the diagram, it is obvious this is via the 2-cell {1,2,3,4}. \n",
    "\n",
    "The $4^{th}$ row is all zero entries, this tells us that the $4^{th}$ 0-cell is not incident to any other 0-cells via a 2-cell. That is, {5} is not incident to any other 0-cells via a 2-cell. Looking at the diagram, we can see this is because {5} is not involved with any 2-cells."
   ]
  },
  {
   "cell_type": "code",
   "execution_count": 13,
   "id": "6c83e931",
   "metadata": {},
   "outputs": [
    {
     "name": "stdout",
     "output_type": "stream",
     "text": [
      "[[0 1 0 0]\n",
      " [1 0 0 0]\n",
      " [0 0 0 0]\n",
      " [0 0 0 0]]\n"
     ]
    }
   ],
   "source": [
    "A12 = example.adjacency_matrix(1, 2).todense()\n",
    "print(A12)"
   ]
  },
  {
   "cell_type": "markdown",
   "id": "fdad0ed9",
   "metadata": {},
   "source": [
    "This is the A12 matrix, this is comparing which 1-cells are adjacent to each other via a 2-cell.\n",
    "\n",
    "To remind ourselves,\n",
    "\n",
    "*rank-1*: 0: {1,2}, 1: {1,3}, 2: {2,5}, 3:{1,2,3,4,5,6}\n",
    "\n",
    "*rank-2*: 0: {1,2,3,4}, 1: {2,4,6}.\n",
    "\n",
    "As there are four 1-cells, this matrix is a 4x4 square matrix. \n",
    "\n",
    "The output here can be explained in the same way. The $0^{th}$ row is showing us that the $0^{th}$ 1-cell is adjacent to the $1^{st}$ 1-cell via a 2-cell. That is, {1,2} is adjacent to {1,3} via a 2-cell - namely {1,2,3,4}.\n",
    "\n",
    "The $1^{st}$ row is showing us that the $1^{st}$ 1-cell is adjacent to the $0^{th}$ 1-cell via a 2-cell, this is the same information as the $0^{th}$ row but simply mirrored. This 2 cell is {1,2,3,4}. This shows that the $1^{st}$ 1-cell({1,2}) and the $2^{nd}$ 1-cell({1,3}) are a subset of the rank 2 cell i.e. {1,2,3,4}.\n",
    "\n",
    "The $2^{nd}$ row is showing us that the $2^{nd}$ 1-cell is adjacent to no other 1-cells via a 2-cell. That is {2,5} is not included in any of the 2-cells. \n",
    "\n",
    "Similarly, the last row({1,2,3,4,5,6}) is not a subset of any of the rank 2 cells. Hence, its rows are all 0."
   ]
  },
  {
   "cell_type": "markdown",
   "id": "080ae90c",
   "metadata": {},
   "source": [
    "### Co-Adjacency Matrix"
   ]
  },
  {
   "cell_type": "markdown",
   "id": "5a4a8cc1",
   "metadata": {},
   "source": [
    "A *co-adjacency matrix* is a matrix that compares a class of objects to them selves, by seeing if they are coadjacent via some cell of a lower rank. \n",
    "\n",
    "That is, do the two cells in the class being compared, both fully contain the same member of a lower class? "
   ]
  },
  {
   "cell_type": "markdown",
   "id": "158d5bc0",
   "metadata": {},
   "source": [
    "Now let's compute the coadjaceny matrices, CA10, CA20 and CA21, for our original example. "
   ]
  },
  {
   "cell_type": "code",
   "execution_count": 19,
   "id": "0a8ba26c",
   "metadata": {},
   "outputs": [
    {
     "name": "stdout",
     "output_type": "stream",
     "text": [
      "[[0 1 1 2]\n",
      " [1 0 0 2]\n",
      " [1 0 0 2]\n",
      " [2 2 2 0]]\n"
     ]
    }
   ],
   "source": [
    "CA10 = example.coadjacency_matrix(1, 0).todense()\n",
    "print(CA10)"
   ]
  },
  {
   "cell_type": "markdown",
   "id": "bf91b9c2",
   "metadata": {},
   "source": [
    "The CA10 matrix, sees if 1-cells are coadjacent via any shared 0-cells.\n",
    "\n",
    "To remind ourselves,\n",
    "\n",
    "*rank-0*: 0: {1}, 1: {2}, 2: {3}, 3: {4}, 4: {5}, 5: {6}\n",
    "\n",
    "*rank-1*: 0: {1,2}, 1: {1,3}, 2: {2,5}, 3: {1,2,3,4,5,6}.\n",
    "\n",
    "The matrix's $0^{th}$ row shows us that {1,2} is coadjacent to {1,3} and {2,5} via some 0-cells. In this case we can see that {1,2} is coadjacent to {1,3} by the 0-cell {1}, is coadjacent to {2,5} by the 0-cell {2} and is coadjacent to {1,2,3,4,5,6} by the 0-cells {2} and {1}."
   ]
  },
  {
   "cell_type": "code",
   "execution_count": 21,
   "id": "c28c6c59",
   "metadata": {},
   "outputs": [
    {
     "name": "stdout",
     "output_type": "stream",
     "text": [
      "[[0 2]\n",
      " [2 0]]\n"
     ]
    }
   ],
   "source": [
    "CA20 = example.coadjacency_matrix(2, 0).todense()\n",
    "print(CA20)"
   ]
  },
  {
   "cell_type": "markdown",
   "id": "c4959d94",
   "metadata": {},
   "source": [
    "The CA20 matrix sees if any 2-cells are coadjacent via any shared 0-cells.\n",
    "\n",
    "To remind ourselves, \n",
    "\n",
    "*rank-0*: 0: {1}, 1: {2}, 2: {3}, 3: {4}, 4: {5}, 5: {6}\n",
    "\n",
    "*rank-2*: 0: {1,2,3,4}, 1: {2,4,6}.\n",
    "\n",
    "CA20's $0^{th}$ row tells us that {1,2,3,4} is coadjacent to {2,4,6} via a 0-cell. Here we can see they both share the 0-cells {2} and {6}.\n",
    "\n",
    "This information is then repeated in the mirrored direction in the $1^{st}$ row. "
   ]
  },
  {
   "cell_type": "code",
   "execution_count": 24,
   "id": "059ba518",
   "metadata": {},
   "outputs": [
    {
     "name": "stdout",
     "output_type": "stream",
     "text": [
      "[[0 0]\n",
      " [0 0]]\n"
     ]
    }
   ],
   "source": [
    "CA21 = example.coadjacency_matrix(2, 1).todense()\n",
    "print(CA21)"
   ]
  },
  {
   "cell_type": "markdown",
   "id": "2863311b",
   "metadata": {},
   "source": [
    "The CA21 matrix compares if any 2-cells are coadjacent via a 1-cell. \n",
    "\n",
    "All of the entries in this matrix are zero, which tells us that no 2-cells are coadjacent via a 1-cell.\n",
    "\n",
    "To remind ourselves, \n",
    "\n",
    "*rank-1*: 0: {1,2}, 1: {1,3}, 2: {2,5} 3: {1,2,3,4,5,6}\n",
    "\n",
    "*rank-2*: 0: {1,2,3,4}, 1: {2,4,6}.\n",
    "\n",
    "Looking at these cells it is clear that both 2-cells do not share any 1-cells, given that {2,4,6} does not fully contain a 1-cell.  "
   ]
  },
  {
   "cell_type": "markdown",
   "id": "b8c61e8e",
   "metadata": {},
   "source": [
    "## Incidence"
   ]
  },
  {
   "cell_type": "markdown",
   "id": "8a84f2bb",
   "metadata": {},
   "source": [
    "### Incidence Matrix"
   ]
  },
  {
   "cell_type": "markdown",
   "id": "08b296b6",
   "metadata": {},
   "source": [
    "An *incidence matrix* is a matrix that shows the relationship between two classes of objects. If the first class is X and the second is Y, the matrix has one row for each element of X and one column for each element of Y. The entry in row x and column y is 1 if x and y are related (called incident in this context) and 0 if they are not $[2]$.\n",
    "\n",
    "$$BXY(i,j) = \\begin{cases}\n",
    "      1 & \\text{if the } i^\\text{th} \\text{ X-cell is contained in, but not equal to, the } j^\\text{th} \\text{ Y-cell}\\\\\n",
    "      0 & \\text{otherwise.}\n",
    "    \\end{cases}$$\n",
    "\n",
    "\n",
    "For colored hypergraphs, we compare cells of a rank to cells of a higher rank. So for our example, as we only have three ranks we have three possible incidence matrices: B01, B02 and B12. "
   ]
  },
  {
   "cell_type": "code",
   "execution_count": 29,
   "id": "b0c7d06e",
   "metadata": {},
   "outputs": [
    {
     "name": "stdout",
     "output_type": "stream",
     "text": [
      "[[1 1 0 1]\n",
      " [1 0 1 1]\n",
      " [0 1 0 1]\n",
      " [0 0 0 1]\n",
      " [0 0 1 1]\n",
      " [0 0 0 1]]\n"
     ]
    }
   ],
   "source": [
    "B01 = example.incidence_matrix(0, 1).todense()\n",
    "print(B01)"
   ]
  },
  {
   "cell_type": "markdown",
   "id": "0b18030e",
   "metadata": {},
   "source": [
    "B01 is the incidence matrix portraying which 0-cells are incident to which 1-cells. \n",
    "\n",
    "To remind ourselves, \n",
    "\n",
    "*rank-0*: 0: {1}, 1: {2}, 2: {3}, 3: {4}, 4: {5}, 5: {6}\n",
    "\n",
    "*rank-1*: 0: {1,2}, 1: {1,3}, 2: {2,5}, 3:{1,2,3,4,5,6}\n",
    "\n",
    "So in this matrix, each row represents one of the six 0-cells, and each column represents one of the four 1-cells. \n",
    "\n",
    "The $0^{th}$ row of this matrix is showing us that the $0^{th}$ 0-cell, {1}, is incident to the $0^{th}$ and $1^{st}$ 1-cells {1,2} and {1,3}. This is because {1} is contained in both {1,2} and {1,3}. The entry $[0,2]$ of this matrix is zero, which tells us that the $2^{nd}$ 1-cell {2,5} is not incident to {1} - a trivial fact when looking at the cells. \n",
    "\n",
    "The 4th column shows all ones as {1,2,3,4,5,6} contains all rank-0 cells.m"
   ]
  },
  {
   "cell_type": "code",
   "execution_count": 30,
   "id": "61ed45e6",
   "metadata": {},
   "outputs": [
    {
     "name": "stdout",
     "output_type": "stream",
     "text": [
      "[[1 0]\n",
      " [1 1]\n",
      " [1 0]\n",
      " [1 1]\n",
      " [0 0]\n",
      " [0 1]]\n"
     ]
    }
   ],
   "source": [
    "B02 = example.incidence_matrix(0, 2).todense()\n",
    "print(B02)"
   ]
  },
  {
   "cell_type": "markdown",
   "id": "0773d569",
   "metadata": {},
   "source": [
    "B02 is the incidence matrix demonstrating which 0-cells are incident to which 2-cells.\n",
    "\n",
    "To remind ourselves,\n",
    "\n",
    "*rank-0*: 0: {1}, 1: {2}, 2: {3}, 3: {4}, 4: {5}, 5: {6}\n",
    "\n",
    "*rank-2*: 0: {1,2,3,4}, 1: {2,4,6}.\n",
    "\n",
    "In this marix, each row represents one of the six 0-cells, and each column represents one of the two 2-cells. \n",
    "\n",
    "The $0^{th}$ row has a non-zero entry for the $0^{th}$ column and a zero entry for the $1^{st}$ column. This tells us that {1} is incident to {1,2,3,4} but is not incident to {2,4,6}. This is because {1} is not contained in {2,4,6}."
   ]
  },
  {
   "cell_type": "code",
   "execution_count": 32,
   "id": "ea0d5a3e",
   "metadata": {},
   "outputs": [
    {
     "name": "stdout",
     "output_type": "stream",
     "text": [
      "[[1 0]\n",
      " [1 0]\n",
      " [0 0]\n",
      " [0 0]]\n"
     ]
    }
   ],
   "source": [
    "B12 = example.incidence_matrix(1, 2).todense()\n",
    "print(B12)"
   ]
  },
  {
   "cell_type": "markdown",
   "id": "dbecea40",
   "metadata": {},
   "source": [
    "B12 is the incidence matrix demonstrating which 1-cells are incident to which 2-cells. \n",
    "\n",
    "To remind ourselves, \n",
    "\n",
    "*rank-1*: 0: {1,2}, 1: {1,3}, 2: {2,5}, 3: {1,2,3,4,5,6}\n",
    "\n",
    "*rank-2*: 0: {1,2,3,4}, 1: {2,4,6}.\n",
    "\n",
    "The $0^{th}$ row tells us that {1,2} is incident to {1,2,3,4} but is not incident to {2,4,6}. The $1^{st}$ row tells us that {1,3} is incident to {1,2,3,4} but is not incident to {2,4,6}. The $2^{nd}$ row tells us that {2,5} is not incident to {1,2,3,4} or {2,4,6}. The $3^{rd}$ row tells us that {1,2,3,4,5,6} is not incident to {1,2,3,4} or {2,4,6}."
   ]
  },
  {
   "cell_type": "markdown",
   "id": "ca858b27",
   "metadata": {},
   "source": [
    "## References"
   ]
  },
  {
   "cell_type": "markdown",
   "id": "fc425fec",
   "metadata": {},
   "source": [
    "$[1]$ : Hajij, M., Zamzmi, G., Papamarkou, T., Miolane, N., Guzmán-Sáenz, A. and Ramamurthy, K. (n.d.). *Higher-Order Attention Networks*. [online] Available at: https://arxiv.org/pdf/2206.00606.pdf [Accessed 3 Apr. 2023].\n",
    "\n",
    "$[2]$ : www.scientificlib.com. (n.d.). *Incidence matrix*. [online] Available at: http://www.scientificlib.com/en/Mathematics/LX/IncidenceMatrix.html. [Accessed 3 Jan. 2023].\n",
    "\n",
    "$[3]$ : Wikipedia. (2023). *Hypergraph*. [online] Available at: https://en.wikipedia.org/wiki/Hypergraph [Accessed 5 Apr. 2023].\n",
    "\n",
    "$[4]$ : Wikipedia. (2023). *Hierarchy (mathematics)*. [online] Available at: https://en.wikipedia.org/wiki/Hierarchy_(mathematics) [Accessed 5 Apr. 2023].\n",
    "\n",
    "$[5]$ : www.sciencedirect.com. (n.d.). *Adjacency Matrix - an overview | ScienceDirect Topics*. [online] Available at: https://www.sciencedirect.com/topics/mathematics/adjacency-matrix#:~:text=The%20adjacency%20matrix%20of%20a [Accessed 5 Apr. 2023].\n",
    "\n",
    "‌"
   ]
  }
 ],
 "metadata": {
  "celltoolbar": "Tags",
  "kernelspec": {
   "display_name": "Python 3.9.6 64-bit",
   "language": "python",
   "name": "python3"
  },
  "language_info": {
   "codemirror_mode": {
    "name": "ipython",
    "version": 3
   },
   "file_extension": ".py",
   "mimetype": "text/x-python",
   "name": "python",
   "nbconvert_exporter": "python",
   "pygments_lexer": "ipython3",
   "version": "3.11.3"
  },
  "vscode": {
   "interpreter": {
    "hash": "31f2aee4e71d21fbe5cf8b01ff0e069b9275f58929596ceb00d14d90e3e16cd6"
   }
  }
 },
 "nbformat": 4,
 "nbformat_minor": 5
}
